{
 "cells": [
  {
   "cell_type": "code",
   "execution_count": 2,
   "id": "494bf73f",
   "metadata": {},
   "outputs": [
    {
     "name": "stderr",
     "output_type": "stream",
     "text": [
      "/root/.cache/pypoetry/virtualenvs/dev-sZr6PvLR-py3.10/lib/python3.10/site-packages/pymc/sampling_jax.py:36: UserWarning: This module is experimental.\n",
      "  warnings.warn(\"This module is experimental.\")\n"
     ]
    }
   ],
   "source": [
    "import pymc as pm\n",
    "import numpy as np\n",
    "import pandas as pd\n",
    "import pymc.sampling_jax\n",
    "import xarray as xr\n",
    "import plotly.express as px\n",
    "import plotly.graph_objs as go\n",
    "import plotly.figure_factory as ff"
   ]
  },
  {
   "cell_type": "code",
   "execution_count": 9,
   "id": "b86286e6",
   "metadata": {},
   "outputs": [
    {
     "data": {
      "text/html": [
       "<div>\n",
       "<style scoped>\n",
       "    .dataframe tbody tr th:only-of-type {\n",
       "        vertical-align: middle;\n",
       "    }\n",
       "\n",
       "    .dataframe tbody tr th {\n",
       "        vertical-align: top;\n",
       "    }\n",
       "\n",
       "    .dataframe thead th {\n",
       "        text-align: right;\n",
       "    }\n",
       "</style>\n",
       "<table border=\"1\" class=\"dataframe\">\n",
       "  <thead>\n",
       "    <tr style=\"text-align: right;\">\n",
       "      <th></th>\n",
       "      <th>Location</th>\n",
       "      <th>Loc</th>\n",
       "      <th>Population</th>\n",
       "      <th>MedianAgeMarriage</th>\n",
       "      <th>Marriage</th>\n",
       "      <th>Marriage SE</th>\n",
       "      <th>Divorce</th>\n",
       "      <th>Divorce SE</th>\n",
       "      <th>WaffleHouses</th>\n",
       "      <th>South</th>\n",
       "      <th>Slaves1860</th>\n",
       "      <th>Population1860</th>\n",
       "      <th>PropSlaves1860</th>\n",
       "    </tr>\n",
       "  </thead>\n",
       "  <tbody>\n",
       "    <tr>\n",
       "      <th>0</th>\n",
       "      <td>Alabama</td>\n",
       "      <td>AL</td>\n",
       "      <td>4.78</td>\n",
       "      <td>25.3</td>\n",
       "      <td>20.2</td>\n",
       "      <td>1.27</td>\n",
       "      <td>12.7</td>\n",
       "      <td>0.79</td>\n",
       "      <td>128</td>\n",
       "      <td>1</td>\n",
       "      <td>435080</td>\n",
       "      <td>964201</td>\n",
       "      <td>0.45</td>\n",
       "    </tr>\n",
       "    <tr>\n",
       "      <th>1</th>\n",
       "      <td>Alaska</td>\n",
       "      <td>AK</td>\n",
       "      <td>0.71</td>\n",
       "      <td>25.2</td>\n",
       "      <td>26.0</td>\n",
       "      <td>2.93</td>\n",
       "      <td>12.5</td>\n",
       "      <td>2.05</td>\n",
       "      <td>0</td>\n",
       "      <td>0</td>\n",
       "      <td>0</td>\n",
       "      <td>0</td>\n",
       "      <td>0.00</td>\n",
       "    </tr>\n",
       "    <tr>\n",
       "      <th>2</th>\n",
       "      <td>Arizona</td>\n",
       "      <td>AZ</td>\n",
       "      <td>6.33</td>\n",
       "      <td>25.8</td>\n",
       "      <td>20.3</td>\n",
       "      <td>0.98</td>\n",
       "      <td>10.8</td>\n",
       "      <td>0.74</td>\n",
       "      <td>18</td>\n",
       "      <td>0</td>\n",
       "      <td>0</td>\n",
       "      <td>0</td>\n",
       "      <td>0.00</td>\n",
       "    </tr>\n",
       "    <tr>\n",
       "      <th>3</th>\n",
       "      <td>Arkansas</td>\n",
       "      <td>AR</td>\n",
       "      <td>2.92</td>\n",
       "      <td>24.3</td>\n",
       "      <td>26.4</td>\n",
       "      <td>1.70</td>\n",
       "      <td>13.5</td>\n",
       "      <td>1.22</td>\n",
       "      <td>41</td>\n",
       "      <td>1</td>\n",
       "      <td>111115</td>\n",
       "      <td>435450</td>\n",
       "      <td>0.26</td>\n",
       "    </tr>\n",
       "    <tr>\n",
       "      <th>4</th>\n",
       "      <td>California</td>\n",
       "      <td>CA</td>\n",
       "      <td>37.25</td>\n",
       "      <td>26.8</td>\n",
       "      <td>19.1</td>\n",
       "      <td>0.39</td>\n",
       "      <td>8.0</td>\n",
       "      <td>0.24</td>\n",
       "      <td>0</td>\n",
       "      <td>0</td>\n",
       "      <td>0</td>\n",
       "      <td>379994</td>\n",
       "      <td>0.00</td>\n",
       "    </tr>\n",
       "  </tbody>\n",
       "</table>\n",
       "</div>"
      ],
      "text/plain": [
       "     Location Loc  Population  MedianAgeMarriage  Marriage  Marriage SE  \\\n",
       "0     Alabama  AL        4.78               25.3      20.2         1.27   \n",
       "1      Alaska  AK        0.71               25.2      26.0         2.93   \n",
       "2     Arizona  AZ        6.33               25.8      20.3         0.98   \n",
       "3    Arkansas  AR        2.92               24.3      26.4         1.70   \n",
       "4  California  CA       37.25               26.8      19.1         0.39   \n",
       "\n",
       "   Divorce  Divorce SE  WaffleHouses  South  Slaves1860  Population1860  \\\n",
       "0     12.7        0.79           128      1      435080          964201   \n",
       "1     12.5        2.05             0      0           0               0   \n",
       "2     10.8        0.74            18      0           0               0   \n",
       "3     13.5        1.22            41      1      111115          435450   \n",
       "4      8.0        0.24             0      0           0          379994   \n",
       "\n",
       "   PropSlaves1860  \n",
       "0            0.45  \n",
       "1            0.00  \n",
       "2            0.00  \n",
       "3            0.26  \n",
       "4            0.00  "
      ]
     },
     "execution_count": 9,
     "metadata": {},
     "output_type": "execute_result"
    }
   ],
   "source": [
    "df = pd.read_csv(\"../Data/WaffleDivorce.csv\", sep=\";\")\n",
    "df.head()"
   ]
  },
  {
   "cell_type": "code",
   "execution_count": 10,
   "id": "2f71232f",
   "metadata": {},
   "outputs": [
    {
     "ename": "ModuleNotFoundError",
     "evalue": "No module named 'sklearn'",
     "output_type": "error",
     "traceback": [
      "\u001b[0;31m---------------------------------------------------------------------------\u001b[0m",
      "\u001b[0;31mModuleNotFoundError\u001b[0m                       Traceback (most recent call last)",
      "Input \u001b[0;32mIn [10]\u001b[0m, in \u001b[0;36m<cell line: 1>\u001b[0;34m()\u001b[0m\n\u001b[0;32m----> 1\u001b[0m \u001b[38;5;28;01mimport\u001b[39;00m \u001b[38;5;21;01msklearn\u001b[39;00m\u001b[38;5;21;01m.\u001b[39;00m\u001b[38;5;21;01mpreprocessing\u001b[39;00m\n",
      "\u001b[0;31mModuleNotFoundError\u001b[0m: No module named 'sklearn'"
     ]
    }
   ],
   "source": [
    "import sklearn.preprocessing"
   ]
  },
  {
   "cell_type": "code",
   "execution_count": null,
   "id": "d0e7bcc1",
   "metadata": {},
   "outputs": [],
   "source": []
  }
 ],
 "metadata": {
  "kernelspec": {
   "display_name": "Python 3 (ipykernel)",
   "language": "python",
   "name": "python3"
  },
  "language_info": {
   "codemirror_mode": {
    "name": "ipython",
    "version": 3
   },
   "file_extension": ".py",
   "mimetype": "text/x-python",
   "name": "python",
   "nbconvert_exporter": "python",
   "pygments_lexer": "ipython3",
   "version": "3.10.0"
  }
 },
 "nbformat": 4,
 "nbformat_minor": 5
}
